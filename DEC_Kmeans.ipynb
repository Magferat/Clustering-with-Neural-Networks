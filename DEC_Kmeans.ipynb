{
  "nbformat": 4,
  "nbformat_minor": 0,
  "metadata": {
    "colab": {
      "provenance": [],
      "gpuType": "T4",
      "include_colab_link": true
    },
    "kernelspec": {
      "name": "python3",
      "display_name": "Python 3"
    },
    "language_info": {
      "name": "python"
    },
    "accelerator": "GPU"
  },
  "cells": [
    {
      "cell_type": "markdown",
      "metadata": {
        "id": "view-in-github",
        "colab_type": "text"
      },
      "source": [
        "<a href=\"https://colab.research.google.com/github/Magferat/Clustering-with-Neural-Networks/blob/main/DEC_Kmeans.ipynb\" target=\"_parent\"><img src=\"https://colab.research.google.com/assets/colab-badge.svg\" alt=\"Open In Colab\"/></a>"
      ]
    },
    {
      "cell_type": "code",
      "source": [
        "\n",
        "\n",
        "import torch\n",
        "import torch.nn as nn\n",
        "import torch.optim as optim\n",
        "from torchvision import datasets, transforms\n",
        "from torch.utils.data import DataLoader\n",
        "import numpy as np\n",
        "from tqdm import tqdm\n",
        "import matplotlib.pyplot as plt\n",
        "from sklearn.manifold import TSNE\n",
        "from sklearn.cluster import KMeans\n",
        "from sklearn.metrics import silhouette_score, davies_bouldin_score, calinski_harabasz_score\n"
      ],
      "metadata": {
        "id": "4Wb6yqVjkrIU"
      },
      "execution_count": null,
      "outputs": []
    },
    {
      "cell_type": "code",
      "source": [
        "transform = transforms.Compose([\n",
        "    transforms.ToTensor(),\n",
        "    transforms.Normalize((0.5,), (0.5,))\n",
        "])\n",
        "\n",
        "train_dataset = datasets.MNIST(root='./data', train=True, transform=transform, download=True)\n",
        "train_loader = DataLoader(train_dataset, batch_size=256, shuffle=True)\n",
        "\n",
        "device = torch.device(\"cuda\" if torch.cuda.is_available() else \"cpu\")\n"
      ],
      "metadata": {
        "id": "9yB-Rdkqk1E6"
      },
      "execution_count": null,
      "outputs": []
    },
    {
      "cell_type": "code",
      "source": [
        "class Autoencoder(nn.Module):\n",
        "    def __init__(self, latent_dim=10):\n",
        "        super(Autoencoder, self).__init__()\n",
        "        self.encoder = nn.Sequential(\n",
        "            nn.Conv2d(1, 32, 3, stride=2, padding=1),  # 14x14\n",
        "            nn.ReLU(),\n",
        "            nn.Conv2d(32, 64, 3, stride=2, padding=1), # 7x7\n",
        "            nn.ReLU(),\n",
        "            nn.Flatten(),\n",
        "            nn.Linear(64 * 7 * 7, latent_dim)\n",
        "        )\n",
        "        self.decoder = nn.Sequential(\n",
        "            nn.Linear(latent_dim, 64 * 7 * 7),\n",
        "            nn.ReLU(),\n",
        "            nn.Unflatten(1, (64, 7, 7)),\n",
        "            nn.ConvTranspose2d(64, 32, 3, stride=2, padding=1, output_padding=1), # 14x14\n",
        "            nn.ReLU(),\n",
        "            nn.ConvTranspose2d(32, 1, 3, stride=2, padding=1, output_padding=1), # 28x28\n",
        "            nn.Tanh()\n",
        "        )\n",
        "\n",
        "    def forward(self, x):\n",
        "        z = self.encoder(x)\n",
        "        x_recon = self.decoder(z)\n",
        "        return z, x_recon\n"
      ],
      "metadata": {
        "id": "aigkDXWIk2oX"
      },
      "execution_count": null,
      "outputs": []
    },
    {
      "cell_type": "code",
      "source": [
        "ae = Autoencoder().to(device)\n",
        "criterion = nn.MSELoss()\n",
        "optimizer = optim.Adam(ae.parameters(), lr=1e-3)\n",
        "\n",
        "# Pretrain loop\n",
        "for epoch in range(20):\n",
        "    epoch_loss = 0\n",
        "    for imgs, _ in tqdm(train_loader, desc=f\"AE Epoch {epoch+1}\"):\n",
        "        imgs = imgs.to(device)\n",
        "        _, recons = ae(imgs)\n",
        "        loss = criterion(recons, imgs)\n",
        "        optimizer.zero_grad()\n",
        "        loss.backward()\n",
        "        optimizer.step()\n",
        "        epoch_loss += loss.item()\n",
        "    print(f\"Epoch {epoch+1}, Loss: {epoch_loss / len(train_loader):.4f}\")\n"
      ],
      "metadata": {
        "colab": {
          "base_uri": "https://localhost:8080/"
        },
        "id": "6PwFIjm5k4Tk",
        "outputId": "bc6001ce-b931-42d9-abf9-f899161df817"
      },
      "execution_count": null,
      "outputs": [
        {
          "output_type": "stream",
          "name": "stderr",
          "text": [
            "AE Epoch 1: 100%|██████████| 235/235 [00:15<00:00, 15.28it/s]\n"
          ]
        },
        {
          "output_type": "stream",
          "name": "stdout",
          "text": [
            "Epoch 1, Loss: 0.2990\n"
          ]
        },
        {
          "output_type": "stream",
          "name": "stderr",
          "text": [
            "AE Epoch 2: 100%|██████████| 235/235 [00:12<00:00, 18.34it/s]\n"
          ]
        },
        {
          "output_type": "stream",
          "name": "stdout",
          "text": [
            "Epoch 2, Loss: 0.1143\n"
          ]
        },
        {
          "output_type": "stream",
          "name": "stderr",
          "text": [
            "AE Epoch 3: 100%|██████████| 235/235 [00:12<00:00, 18.45it/s]\n"
          ]
        },
        {
          "output_type": "stream",
          "name": "stdout",
          "text": [
            "Epoch 3, Loss: 0.0941\n"
          ]
        },
        {
          "output_type": "stream",
          "name": "stderr",
          "text": [
            "AE Epoch 4: 100%|██████████| 235/235 [00:12<00:00, 18.62it/s]\n"
          ]
        },
        {
          "output_type": "stream",
          "name": "stdout",
          "text": [
            "Epoch 4, Loss: 0.0847\n"
          ]
        },
        {
          "output_type": "stream",
          "name": "stderr",
          "text": [
            "AE Epoch 5: 100%|██████████| 235/235 [00:12<00:00, 18.54it/s]\n"
          ]
        },
        {
          "output_type": "stream",
          "name": "stdout",
          "text": [
            "Epoch 5, Loss: 0.0790\n"
          ]
        },
        {
          "output_type": "stream",
          "name": "stderr",
          "text": [
            "AE Epoch 6: 100%|██████████| 235/235 [00:13<00:00, 17.38it/s]\n"
          ]
        },
        {
          "output_type": "stream",
          "name": "stdout",
          "text": [
            "Epoch 6, Loss: 0.0750\n"
          ]
        },
        {
          "output_type": "stream",
          "name": "stderr",
          "text": [
            "AE Epoch 7: 100%|██████████| 235/235 [00:14<00:00, 16.41it/s]\n"
          ]
        },
        {
          "output_type": "stream",
          "name": "stdout",
          "text": [
            "Epoch 7, Loss: 0.0719\n"
          ]
        },
        {
          "output_type": "stream",
          "name": "stderr",
          "text": [
            "AE Epoch 8: 100%|██████████| 235/235 [00:12<00:00, 18.34it/s]\n"
          ]
        },
        {
          "output_type": "stream",
          "name": "stdout",
          "text": [
            "Epoch 8, Loss: 0.0694\n"
          ]
        },
        {
          "output_type": "stream",
          "name": "stderr",
          "text": [
            "AE Epoch 9: 100%|██████████| 235/235 [00:12<00:00, 18.64it/s]\n"
          ]
        },
        {
          "output_type": "stream",
          "name": "stdout",
          "text": [
            "Epoch 9, Loss: 0.0674\n"
          ]
        },
        {
          "output_type": "stream",
          "name": "stderr",
          "text": [
            "AE Epoch 10: 100%|██████████| 235/235 [00:12<00:00, 18.21it/s]\n"
          ]
        },
        {
          "output_type": "stream",
          "name": "stdout",
          "text": [
            "Epoch 10, Loss: 0.0656\n"
          ]
        },
        {
          "output_type": "stream",
          "name": "stderr",
          "text": [
            "AE Epoch 11: 100%|██████████| 235/235 [00:12<00:00, 18.17it/s]\n"
          ]
        },
        {
          "output_type": "stream",
          "name": "stdout",
          "text": [
            "Epoch 11, Loss: 0.0642\n"
          ]
        },
        {
          "output_type": "stream",
          "name": "stderr",
          "text": [
            "AE Epoch 12: 100%|██████████| 235/235 [00:12<00:00, 18.09it/s]\n"
          ]
        },
        {
          "output_type": "stream",
          "name": "stdout",
          "text": [
            "Epoch 12, Loss: 0.0630\n"
          ]
        },
        {
          "output_type": "stream",
          "name": "stderr",
          "text": [
            "AE Epoch 13: 100%|██████████| 235/235 [00:12<00:00, 18.18it/s]\n"
          ]
        },
        {
          "output_type": "stream",
          "name": "stdout",
          "text": [
            "Epoch 13, Loss: 0.0618\n"
          ]
        },
        {
          "output_type": "stream",
          "name": "stderr",
          "text": [
            "AE Epoch 14: 100%|██████████| 235/235 [00:13<00:00, 17.76it/s]\n"
          ]
        },
        {
          "output_type": "stream",
          "name": "stdout",
          "text": [
            "Epoch 14, Loss: 0.0609\n"
          ]
        },
        {
          "output_type": "stream",
          "name": "stderr",
          "text": [
            "AE Epoch 15: 100%|██████████| 235/235 [00:13<00:00, 17.36it/s]\n"
          ]
        },
        {
          "output_type": "stream",
          "name": "stdout",
          "text": [
            "Epoch 15, Loss: 0.0600\n"
          ]
        },
        {
          "output_type": "stream",
          "name": "stderr",
          "text": [
            "AE Epoch 16: 100%|██████████| 235/235 [00:12<00:00, 18.29it/s]\n"
          ]
        },
        {
          "output_type": "stream",
          "name": "stdout",
          "text": [
            "Epoch 16, Loss: 0.0592\n"
          ]
        },
        {
          "output_type": "stream",
          "name": "stderr",
          "text": [
            "AE Epoch 17: 100%|██████████| 235/235 [00:12<00:00, 18.50it/s]\n"
          ]
        },
        {
          "output_type": "stream",
          "name": "stdout",
          "text": [
            "Epoch 17, Loss: 0.0585\n"
          ]
        },
        {
          "output_type": "stream",
          "name": "stderr",
          "text": [
            "AE Epoch 18: 100%|██████████| 235/235 [00:12<00:00, 18.48it/s]\n"
          ]
        },
        {
          "output_type": "stream",
          "name": "stdout",
          "text": [
            "Epoch 18, Loss: 0.0579\n"
          ]
        },
        {
          "output_type": "stream",
          "name": "stderr",
          "text": [
            "AE Epoch 19: 100%|██████████| 235/235 [00:12<00:00, 18.14it/s]\n"
          ]
        },
        {
          "output_type": "stream",
          "name": "stdout",
          "text": [
            "Epoch 19, Loss: 0.0573\n"
          ]
        },
        {
          "output_type": "stream",
          "name": "stderr",
          "text": [
            "AE Epoch 20: 100%|██████████| 235/235 [00:12<00:00, 18.61it/s]"
          ]
        },
        {
          "output_type": "stream",
          "name": "stdout",
          "text": [
            "Epoch 20, Loss: 0.0567\n"
          ]
        },
        {
          "output_type": "stream",
          "name": "stderr",
          "text": [
            "\n"
          ]
        }
      ]
    },
    {
      "cell_type": "code",
      "source": [
        "def target_distribution(q):\n",
        "    weight = q**2 / q.sum(0)\n",
        "    return (weight.T / weight.sum(1)).T\n",
        "\n",
        "class DEC:\n",
        "    def __init__(self, model, n_clusters=10, alpha=1.0):\n",
        "        self.model = model\n",
        "        self.n_clusters = n_clusters\n",
        "        self.alpha = alpha\n",
        "        self.cluster_centers = nn.Parameter(\n",
        "            torch.randn(n_clusters, 10, dtype=torch.float32).to(device)\n",
        "        )\n",
        "\n",
        "    def soft_assign(self, z):\n",
        "        z = z.float()\n",
        "        dist = torch.cdist(z, self.cluster_centers, p=2) ** 2\n",
        "        num = (1.0 + dist / self.alpha) ** ((self.alpha + 1.0) / -2)\n",
        "        return (num.T / num.sum(1)).T  # shape: (batch, n_clusters)\n",
        "\n",
        "    def kl_loss(self, q, p):\n",
        "        return torch.nn.functional.kl_div(q.log(), p, reduction='batchmean')\n",
        "\n",
        "# Step 1: Extract embeddings\n",
        "ae.eval()\n",
        "all_embeddings = []\n",
        "all_labels = []\n",
        "\n",
        "with torch.no_grad():\n",
        "    for imgs, labels in train_loader:\n",
        "        imgs = imgs.to(device)\n",
        "        z, _ = ae(imgs)\n",
        "        all_embeddings.append(z.cpu())\n",
        "        all_labels.append(labels)\n",
        "\n",
        "embeddings = torch.cat(all_embeddings)\n",
        "labels = torch.cat(all_labels)\n",
        "\n",
        "# Step 2: Init cluster centers with KMeans\n",
        "kmeans = KMeans(n_clusters=10, n_init=20)\n",
        "y_pred = kmeans.fit_predict(embeddings)\n",
        "dec = DEC(ae, 10)\n",
        "dec.cluster_centers.data = torch.tensor(\n",
        "    kmeans.cluster_centers_, dtype=torch.float32, device=device\n",
        ")\n",
        "\n",
        "# Step 3: DEC training\n",
        "optimizer = optim.Adam(\n",
        "    [{'params': ae.encoder.parameters()}, {'params': dec.cluster_centers}], lr=1e-3\n",
        ")\n",
        "\n",
        "for epoch in range(20):\n",
        "    epoch_loss = 0\n",
        "    for imgs, _ in tqdm(train_loader, desc=f\"DEC Epoch {epoch+1}\"):\n",
        "        imgs = imgs.to(device)\n",
        "        z, _ = ae(imgs)\n",
        "        q = dec.soft_assign(z)\n",
        "        p = target_distribution(q.detach())\n",
        "        loss = dec.kl_loss(q, p)\n",
        "        optimizer.zero_grad()\n",
        "        loss.backward()\n",
        "        optimizer.step()\n",
        "        epoch_loss += loss.item()\n",
        "    print(f\"[DEC] Epoch {epoch+1}, Loss: {epoch_loss / len(train_loader):.4f}\")\n"
      ],
      "metadata": {
        "colab": {
          "base_uri": "https://localhost:8080/"
        },
        "id": "nxhIE45Ik5pE",
        "outputId": "8b46d3ed-3212-420b-d481-7d611413aaf4"
      },
      "execution_count": null,
      "outputs": [
        {
          "output_type": "stream",
          "name": "stderr",
          "text": [
            "DEC Epoch 1: 100%|██████████| 235/235 [00:12<00:00, 18.11it/s]\n"
          ]
        },
        {
          "output_type": "stream",
          "name": "stdout",
          "text": [
            "[DEC] Epoch 1, Loss: 0.2095\n"
          ]
        },
        {
          "output_type": "stream",
          "name": "stderr",
          "text": [
            "DEC Epoch 2: 100%|██████████| 235/235 [00:12<00:00, 19.12it/s]\n"
          ]
        },
        {
          "output_type": "stream",
          "name": "stdout",
          "text": [
            "[DEC] Epoch 2, Loss: 0.1811\n"
          ]
        },
        {
          "output_type": "stream",
          "name": "stderr",
          "text": [
            "DEC Epoch 3: 100%|██████████| 235/235 [00:12<00:00, 18.91it/s]\n"
          ]
        },
        {
          "output_type": "stream",
          "name": "stdout",
          "text": [
            "[DEC] Epoch 3, Loss: 0.1700\n"
          ]
        },
        {
          "output_type": "stream",
          "name": "stderr",
          "text": [
            "DEC Epoch 4: 100%|██████████| 235/235 [00:12<00:00, 18.87it/s]\n"
          ]
        },
        {
          "output_type": "stream",
          "name": "stdout",
          "text": [
            "[DEC] Epoch 4, Loss: 0.1625\n"
          ]
        },
        {
          "output_type": "stream",
          "name": "stderr",
          "text": [
            "DEC Epoch 5: 100%|██████████| 235/235 [00:12<00:00, 18.76it/s]\n"
          ]
        },
        {
          "output_type": "stream",
          "name": "stdout",
          "text": [
            "[DEC] Epoch 5, Loss: 0.1565\n"
          ]
        },
        {
          "output_type": "stream",
          "name": "stderr",
          "text": [
            "DEC Epoch 6: 100%|██████████| 235/235 [00:12<00:00, 18.76it/s]\n"
          ]
        },
        {
          "output_type": "stream",
          "name": "stdout",
          "text": [
            "[DEC] Epoch 6, Loss: 0.1515\n"
          ]
        },
        {
          "output_type": "stream",
          "name": "stderr",
          "text": [
            "DEC Epoch 7: 100%|██████████| 235/235 [00:12<00:00, 19.02it/s]\n"
          ]
        },
        {
          "output_type": "stream",
          "name": "stdout",
          "text": [
            "[DEC] Epoch 7, Loss: 0.1477\n"
          ]
        },
        {
          "output_type": "stream",
          "name": "stderr",
          "text": [
            "DEC Epoch 8: 100%|██████████| 235/235 [00:12<00:00, 19.08it/s]\n"
          ]
        },
        {
          "output_type": "stream",
          "name": "stdout",
          "text": [
            "[DEC] Epoch 8, Loss: 0.1447\n"
          ]
        },
        {
          "output_type": "stream",
          "name": "stderr",
          "text": [
            "DEC Epoch 9: 100%|██████████| 235/235 [00:12<00:00, 18.96it/s]\n"
          ]
        },
        {
          "output_type": "stream",
          "name": "stdout",
          "text": [
            "[DEC] Epoch 9, Loss: 0.1420\n"
          ]
        },
        {
          "output_type": "stream",
          "name": "stderr",
          "text": [
            "DEC Epoch 10: 100%|██████████| 235/235 [00:12<00:00, 19.01it/s]\n"
          ]
        },
        {
          "output_type": "stream",
          "name": "stdout",
          "text": [
            "[DEC] Epoch 10, Loss: 0.1390\n"
          ]
        },
        {
          "output_type": "stream",
          "name": "stderr",
          "text": [
            "DEC Epoch 11: 100%|██████████| 235/235 [00:12<00:00, 18.68it/s]\n"
          ]
        },
        {
          "output_type": "stream",
          "name": "stdout",
          "text": [
            "[DEC] Epoch 11, Loss: 0.1363\n"
          ]
        },
        {
          "output_type": "stream",
          "name": "stderr",
          "text": [
            "DEC Epoch 12: 100%|██████████| 235/235 [00:12<00:00, 19.10it/s]\n"
          ]
        },
        {
          "output_type": "stream",
          "name": "stdout",
          "text": [
            "[DEC] Epoch 12, Loss: 0.1341\n"
          ]
        },
        {
          "output_type": "stream",
          "name": "stderr",
          "text": [
            "DEC Epoch 13: 100%|██████████| 235/235 [00:12<00:00, 18.92it/s]\n"
          ]
        },
        {
          "output_type": "stream",
          "name": "stdout",
          "text": [
            "[DEC] Epoch 13, Loss: 0.1317\n"
          ]
        },
        {
          "output_type": "stream",
          "name": "stderr",
          "text": [
            "DEC Epoch 14: 100%|██████████| 235/235 [00:12<00:00, 19.05it/s]\n"
          ]
        },
        {
          "output_type": "stream",
          "name": "stdout",
          "text": [
            "[DEC] Epoch 14, Loss: 0.1297\n"
          ]
        },
        {
          "output_type": "stream",
          "name": "stderr",
          "text": [
            "DEC Epoch 15: 100%|██████████| 235/235 [00:12<00:00, 18.92it/s]\n"
          ]
        },
        {
          "output_type": "stream",
          "name": "stdout",
          "text": [
            "[DEC] Epoch 15, Loss: 0.1279\n"
          ]
        },
        {
          "output_type": "stream",
          "name": "stderr",
          "text": [
            "DEC Epoch 16: 100%|██████████| 235/235 [00:12<00:00, 19.09it/s]\n"
          ]
        },
        {
          "output_type": "stream",
          "name": "stdout",
          "text": [
            "[DEC] Epoch 16, Loss: 0.1262\n"
          ]
        },
        {
          "output_type": "stream",
          "name": "stderr",
          "text": [
            "DEC Epoch 17: 100%|██████████| 235/235 [00:13<00:00, 17.87it/s]\n"
          ]
        },
        {
          "output_type": "stream",
          "name": "stdout",
          "text": [
            "[DEC] Epoch 17, Loss: 0.1247\n"
          ]
        },
        {
          "output_type": "stream",
          "name": "stderr",
          "text": [
            "DEC Epoch 18: 100%|██████████| 235/235 [00:12<00:00, 19.03it/s]\n"
          ]
        },
        {
          "output_type": "stream",
          "name": "stdout",
          "text": [
            "[DEC] Epoch 18, Loss: 0.1230\n"
          ]
        },
        {
          "output_type": "stream",
          "name": "stderr",
          "text": [
            "DEC Epoch 19: 100%|██████████| 235/235 [00:12<00:00, 18.85it/s]\n"
          ]
        },
        {
          "output_type": "stream",
          "name": "stdout",
          "text": [
            "[DEC] Epoch 19, Loss: 0.1215\n"
          ]
        },
        {
          "output_type": "stream",
          "name": "stderr",
          "text": [
            "DEC Epoch 20: 100%|██████████| 235/235 [00:12<00:00, 18.85it/s]"
          ]
        },
        {
          "output_type": "stream",
          "name": "stdout",
          "text": [
            "[DEC] Epoch 20, Loss: 0.1200\n"
          ]
        },
        {
          "output_type": "stream",
          "name": "stderr",
          "text": [
            "\n"
          ]
        }
      ]
    },
    {
      "cell_type": "code",
      "source": [
        "\n",
        "ae.eval()\n",
        "with torch.no_grad():\n",
        "    all_z = []\n",
        "    for imgs, _ in train_loader:\n",
        "        z, _ = ae(imgs.to(device))\n",
        "        all_z.append(z.cpu())\n",
        "    z = torch.cat(all_z).numpy()\n",
        "\n",
        "# KMeans clustering\n",
        "kmeans = KMeans(n_clusters=10, n_init=20).fit(z)\n",
        "labels_pred = kmeans.labels_\n",
        "\n",
        "# Evaluation metrics\n",
        "sil = silhouette_score(z, labels_pred)\n",
        "db = davies_bouldin_score(z, labels_pred)\n",
        "chi = calinski_harabasz_score(z, labels_pred)\n",
        "\n",
        "print(f\"Silhouette Score:         {sil:.4f}\")\n",
        "print(f\"Davies-Bouldin Index:     {db:.4f}\")\n",
        "print(f\"Calinski-Harabasz Index:  {chi:.4f}\")\n"
      ],
      "metadata": {
        "colab": {
          "base_uri": "https://localhost:8080/"
        },
        "id": "-4JgAaWlk87N",
        "outputId": "382ad0af-1384-4bd8-89aa-ddd9524f8470"
      },
      "execution_count": null,
      "outputs": [
        {
          "output_type": "stream",
          "name": "stdout",
          "text": [
            "Silhouette Score:         0.7268\n",
            "Davies-Bouldin Index:     0.3602\n",
            "Calinski-Harabasz Index:  139736.9219\n"
          ]
        }
      ]
    },
    {
      "cell_type": "code",
      "source": [
        "tsne = TSNE(n_components=2, random_state=42)\n",
        "z_2d = tsne.fit_transform(z)\n",
        "\n",
        "plt.figure(figsize=(8,6))\n",
        "plt.scatter(z_2d[:, 0], z_2d[:, 1], c=kmeans.labels_, cmap='tab10', s=5)\n",
        "plt.title(\"t-SNE Visualization of DEC Clusters\")\n",
        "plt.colorbar()\n",
        "plt.show()\n"
      ],
      "metadata": {
        "colab": {
          "base_uri": "https://localhost:8080/",
          "height": 545
        },
        "id": "5Wzg9QR3k-ZE",
        "outputId": "1b143cc4-d62d-4115-bb0d-11675dabaa7d"
      },
      "execution_count": null,
      "outputs": [
        {
          "output_type": "display_data",
          "data": {
            "text/plain": [
              "<Figure size 800x600 with 2 Axes>"
            ],
            "image/png": "[encoded data removed]"
          },
          "metadata": {}
        }
      ]
    },
    {
      "cell_type": "code",
      "source": [
        "import pickle\n",
        "\n",
        "with open(\"dec_results.pkl\", \"wb\") as f:\n",
        "    pickle.dump({\n",
        "        \"embeddings\": z,\n",
        "        \"labels\": labels.numpy(),\n",
        "        \"preds\": kmeans.labels_,\n",
        "        \"silhouette\": sil,\n",
        "        \"db_score\": db\n",
        "    }, f)\n",
        "torch.save(ae.state_dict(), \"autoencoder_mnist.pth\")\n"
      ],
      "metadata": {
        "id": "jqFLS_DLlAEo"
      },
      "execution_count": null,
      "outputs": []
    }
  ]
}